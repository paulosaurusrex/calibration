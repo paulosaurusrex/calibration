{
 "cells": [
  {
   "cell_type": "code",
   "execution_count": null,
   "metadata": {},
   "outputs": [],
   "source": [
    "%load_ext autoreload\n",
    "%autoreload 2 \n",
    "%config InlineBackend.figure_format = 'retina'\n",
    "import sys\n",
    "sys.path.append('../.venv/lib/python3.7/site-packages/')"
   ]
  },
  {
   "cell_type": "code",
   "execution_count": null,
   "metadata": {},
   "outputs": [],
   "source": [
    "import numpy as np\n",
    "from sklearn import datasets\n",
    "from sklearn.ensemble import RandomForestClassifier\n",
    "import matplotlib.pyplot as plt\n",
    "import reliability as rel\n",
    "import calibration as cal\n",
    "from sklearn.metrics import accuracy_score"
   ]
  },
  {
   "cell_type": "code",
   "execution_count": null,
   "metadata": {},
   "outputs": [],
   "source": [
    "plt.style.use(\"ggplot\")\n",
    "plt.rcParams.update({\n",
    "    \"text.usetex\": True,\n",
    "    \"font.family\": \"serif\",\n",
    "    \"font.serif\": [\"Palatino\"],\n",
    "})"
   ]
  },
  {
   "cell_type": "code",
   "execution_count": null,
   "metadata": {},
   "outputs": [],
   "source": [
    "def plot_reliability(probs, classes, kernel, even_mass, num_points, fig, ax, q_label,\n",
    "                     show_bars=False, show_counts=False, show_kernel=False, show_colormap=False):   \n",
    "    curve = rel.ReliabilityFit(probs, classes, kernel, even_mass).get_curve(num_points)\n",
    "    curve.plot(fig, ax, False, show_bars, show_counts, show_kernel, show_colormap)\n",
    "    ece = curve.ece()\n",
    "    ax.set_title(q_label+\"\\n\"+f\"(ECE={ece:.2f})\", pad=15)\n",
    "    ax.set_aspect('equal')\n",
    "    \n",
    "    return curve\n",
    "\n",
    "def plot_unified_reliability(probs, classes, kernel, even_mass, num_points, show_bars=False, \n",
    "                             show_counts=False, show_kernel=False, show_colormap=False):    \n",
    "    fig, ax = plt.subplots(1, 3, figsize=(20, 5))\n",
    "    titles = [\n",
    "        'Class 0',\n",
    "        'Class 1',\n",
    "        'Class 2'\n",
    "    ]\n",
    "    for i in range(3):        \n",
    "        curve = plot_reliability(probs[:, i], \n",
    "                                 np.array(classes==i, dtype=int), \n",
    "                                 kernel, \n",
    "                                 even_mass, \n",
    "                                 num_points, \n",
    "                                 fig,\n",
    "                                 ax[i], \n",
    "                                 titles[i],\n",
    "                                 show_bars, \n",
    "                                 show_counts, \n",
    "                                 show_kernel,\n",
    "                                 show_colormap)\n",
    "        \n",
    "    plt.show()\n",
    "\n",
    "def plot_calibration_grid(probs_train, classes_train, cal_method, classes_val):\n",
    "    accuracy = accuracy_score(classes_train, np.argmax(probs_train, axis=1))\n",
    "    print('Original Training - Accuracy = {:.2f}'.format(accuracy))\n",
    "    plot_unified_reliability(probs_train, \n",
    "                             classes_train, \n",
    "                             rel.DeltaKernel(), \n",
    "                             even_mass=False, \n",
    "                             num_points=10,                          \n",
    "                             show_bars=True, \n",
    "                             show_counts=True, \n",
    "                             show_kernel=False, \n",
    "                             show_colormap=False)\n",
    "    \n",
    "    print('Calibrated Training (unormalized)')\n",
    "    cal_method.fit(probs_train, classes_train)\n",
    "    cal_probs = cal_method.transform(probs_train, normalize=False)\n",
    "    plot_unified_reliability(cal_probs, \n",
    "                             classes_train, \n",
    "                             rel.DeltaKernel(), \n",
    "                             even_mass=False, \n",
    "                             num_points=10,                          \n",
    "                             show_bars=True, \n",
    "                             show_counts=True, \n",
    "                             show_kernel=False, \n",
    "                             show_colormap=False)\n",
    "    \n",
    "    cal_probs = cal_method.transform(probs_train, normalize=True)\n",
    "    accuracy = accuracy_score(classes_train, np.argmax(cal_probs, axis=1))\n",
    "    print('Calibrated Training (normalized) - Accuracy = {:.2f}'.format(accuracy))    \n",
    "    plot_unified_reliability(cal_probs, \n",
    "                             classes_train, \n",
    "                             rel.DeltaKernel(), \n",
    "                             even_mass=False, \n",
    "                             num_points=10,                          \n",
    "                             show_bars=True, \n",
    "                             show_counts=True, \n",
    "                             show_kernel=False, \n",
    "                             show_colormap=False)\n",
    "    \n",
    "    accuracy = accuracy_score(classes_val, np.argmax(probs_val, axis=1))\n",
    "    print('Original Val - Accuracy = {:.2f}'.format(accuracy))\n",
    "    plot_unified_reliability(probs_val, \n",
    "                             classes_val, \n",
    "                             rel.DeltaKernel(), \n",
    "                             even_mass=False, \n",
    "                             num_points=10,                          \n",
    "                             show_bars=True, \n",
    "                             show_counts=True, \n",
    "                             show_kernel=False, \n",
    "                             show_colormap=False)\n",
    "\n",
    "    print('Calibrated Val (unormalized)')\n",
    "    cal_probs = cal_method.transform(probs_val, normalize=False)\n",
    "    plot_unified_reliability(cal_probs, \n",
    "                             classes_val, \n",
    "                             rel.DeltaKernel(), \n",
    "                             even_mass=False, \n",
    "                             num_points=10,                          \n",
    "                             show_bars=True, \n",
    "                             show_counts=True, \n",
    "                             show_kernel=False, \n",
    "                             show_colormap=False)\n",
    "    \n",
    "    cal_probs = cal_method.transform(probs_val, normalize=True)\n",
    "    accuracy = accuracy_score(classes_val, np.argmax(cal_probs, axis=1))\n",
    "    print('Calibrated Val (normalized) - Accuracy = {:.2f}'.format(accuracy))\n",
    "    plot_unified_reliability(cal_probs, \n",
    "                             classes_val, \n",
    "                             rel.DeltaKernel(), \n",
    "                             even_mass=False, \n",
    "                             num_points=10,                          \n",
    "                             show_bars=True, \n",
    "                             show_counts=True, \n",
    "                             show_kernel=False, \n",
    "                             show_colormap=False)"
   ]
  },
  {
   "cell_type": "markdown",
   "metadata": {},
   "source": [
    "# Data"
   ]
  },
  {
   "cell_type": "code",
   "execution_count": null,
   "metadata": {},
   "outputs": [],
   "source": [
    "# Generate a random classification problem\n",
    "np.random.seed(42)\n",
    "X, y = datasets.make_classification(n_samples=6000, n_features=20, n_informative=6, n_redundant=2, n_classes=3)"
   ]
  },
  {
   "cell_type": "code",
   "execution_count": null,
   "metadata": {},
   "outputs": [],
   "source": [
    "train_samples = 4000  # Samples used for training the model\n",
    "X_train = X[:train_samples]\n",
    "X_test = X[train_samples:]\n",
    "y_train = y[:train_samples]\n",
    "y_test = y[train_samples:]\n",
    "\n",
    "rfc = RandomForestClassifier()\n",
    "rfc.fit(X_train, y_train)\n",
    "prob_pos = rfc.predict_proba(X_test)\n",
    "\n",
    "probs_train = prob_pos[:1000, :] # Used to calibrate the curves\n",
    "classes_train = y_test[:1000]\n",
    "probs_val = prob_pos[1000:, :] # Used to test the calibration\n",
    "classes_val = y_test[1000:]"
   ]
  },
  {
   "cell_type": "code",
   "execution_count": null,
   "metadata": {},
   "outputs": [],
   "source": [
    "plot_unified_reliability(probs_train, \n",
    "                         classes_train, \n",
    "                         rel.DeltaKernel(), \n",
    "                         even_mass=False, \n",
    "                         num_points=10,                          \n",
    "                         show_bars=True, \n",
    "                         show_counts=True, \n",
    "                         show_kernel=False, \n",
    "                         show_colormap=False)"
   ]
  },
  {
   "cell_type": "markdown",
   "metadata": {},
   "source": [
    "# Binning"
   ]
  },
  {
   "cell_type": "code",
   "execution_count": null,
   "metadata": {
    "scrolled": true
   },
   "outputs": [],
   "source": [
    "binning = cal.BinningCalibration(num_points=10, even_mass=False)\n",
    "plot_calibration_grid(probs_train, classes_train, binning, classes_val)"
   ]
  },
  {
   "cell_type": "markdown",
   "metadata": {},
   "source": [
    "# Isotonic"
   ]
  },
  {
   "cell_type": "code",
   "execution_count": null,
   "metadata": {
    "scrolled": true
   },
   "outputs": [],
   "source": [
    "isotonic = cal.IsotonicCalibration()\n",
    "plot_calibration_grid(probs_train, classes_train, isotonic, classes_val)"
   ]
  },
  {
   "cell_type": "markdown",
   "metadata": {},
   "source": [
    "# Platt"
   ]
  },
  {
   "cell_type": "code",
   "execution_count": null,
   "metadata": {},
   "outputs": [],
   "source": [
    "platt = cal.PlattCalibration()\n",
    "plot_calibration_grid(probs_train, classes_train, platt, classes_val)"
   ]
  },
  {
   "cell_type": "markdown",
   "metadata": {},
   "source": [
    "# Beta"
   ]
  },
  {
   "cell_type": "code",
   "execution_count": null,
   "metadata": {},
   "outputs": [],
   "source": [
    "beta = cal.BetaCalibration()\n",
    "plot_calibration_grid(probs_train, classes_train, beta, classes_val)"
   ]
  },
  {
   "cell_type": "markdown",
   "metadata": {},
   "source": [
    "# Temperature Scaling"
   ]
  },
  {
   "cell_type": "code",
   "execution_count": null,
   "metadata": {
    "scrolled": false
   },
   "outputs": [],
   "source": [
    "temperature_scaling = cal.TemperatureScaling(1.2)\n",
    "plot_calibration_grid(probs_train, classes_train, temperature_scaling, classes_val)"
   ]
  },
  {
   "cell_type": "markdown",
   "metadata": {},
   "source": [
    "# Unconstrained Linear Regression"
   ]
  },
  {
   "cell_type": "code",
   "execution_count": null,
   "metadata": {
    "scrolled": false
   },
   "outputs": [],
   "source": [
    "lr = cal.LinearRegressionCalibration(rel.DeltaKernel(), 10, False, True)\n",
    "plot_calibration_grid(probs_train, classes_train, lr, classes_val)"
   ]
  },
  {
   "cell_type": "markdown",
   "metadata": {},
   "source": [
    "# Constrained Linear Regression\n",
    "\n",
    "Ensures that the points are fitted by a monotonically increasing function with intercept $\\ge 0$ and $f(1) <= 1$."
   ]
  },
  {
   "cell_type": "code",
   "execution_count": null,
   "metadata": {},
   "outputs": [],
   "source": [
    "lr = cal.ConstrainedLinearRegressionCalibration(rel.DeltaKernel(), 10, False, True)\n",
    "plot_calibration_grid(probs_train, classes_train, lr, classes_val) "
   ]
  },
  {
   "cell_type": "markdown",
   "metadata": {},
   "source": [
    "# Gamma"
   ]
  },
  {
   "cell_type": "code",
   "execution_count": null,
   "metadata": {},
   "outputs": [],
   "source": [
    "lr = cal.GammaRegressionCalibration(rel.DeltaKernel(), 10, False, True)\n",
    "plot_calibration_grid(probs_train, classes_train, lr, classes_val) "
   ]
  }
 ],
 "metadata": {
  "kernelspec": {
   "display_name": ".venv",
   "language": "python",
   "name": ".venv"
  },
  "language_info": {
   "codemirror_mode": {
    "name": "ipython",
    "version": 3
   },
   "file_extension": ".py",
   "mimetype": "text/x-python",
   "name": "python",
   "nbconvert_exporter": "python",
   "pygments_lexer": "ipython3",
   "version": "3.7.3"
  }
 },
 "nbformat": 4,
 "nbformat_minor": 4
}
